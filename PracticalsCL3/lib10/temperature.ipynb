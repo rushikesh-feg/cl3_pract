{
 "cells": [
  {
   "cell_type": "code",
   "execution_count": 37,
   "id": "bc277bf1",
   "metadata": {},
   "outputs": [],
   "source": [
    "import pandas as pd\n",
    "from collections import defaultdict\n",
    "from datetime import datetime"
   ]
  },
  {
   "cell_type": "code",
   "execution_count": 38,
   "id": "df37b636",
   "metadata": {},
   "outputs": [],
   "source": [
    "# Load dataset\n",
    "df = pd.read_csv(\"weather_data_new.csv\")"
   ]
  },
  {
   "cell_type": "code",
   "execution_count": 39,
   "id": "ac415a61",
   "metadata": {},
   "outputs": [
    {
     "data": {
      "text/html": [
       "<div>\n",
       "<style scoped>\n",
       "    .dataframe tbody tr th:only-of-type {\n",
       "        vertical-align: middle;\n",
       "    }\n",
       "\n",
       "    .dataframe tbody tr th {\n",
       "        vertical-align: top;\n",
       "    }\n",
       "\n",
       "    .dataframe thead th {\n",
       "        text-align: right;\n",
       "    }\n",
       "</style>\n",
       "<table border=\"1\" class=\"dataframe\">\n",
       "  <thead>\n",
       "    <tr style=\"text-align: right;\">\n",
       "      <th></th>\n",
       "      <th>Location</th>\n",
       "      <th>Date_Time</th>\n",
       "      <th>Temperature_C</th>\n",
       "      <th>Humidity_pct</th>\n",
       "      <th>Precipitation_mm</th>\n",
       "      <th>Wind_Speed_kmh</th>\n",
       "    </tr>\n",
       "  </thead>\n",
       "  <tbody>\n",
       "    <tr>\n",
       "      <th>0</th>\n",
       "      <td>San Antonio</td>\n",
       "      <td>18-09-2015 02:23</td>\n",
       "      <td>-2.489152</td>\n",
       "      <td>86.853813</td>\n",
       "      <td>4.885810</td>\n",
       "      <td>14.469642</td>\n",
       "    </tr>\n",
       "    <tr>\n",
       "      <th>1</th>\n",
       "      <td>Houston</td>\n",
       "      <td>27-03-2015 01:19</td>\n",
       "      <td>17.537183</td>\n",
       "      <td>39.588093</td>\n",
       "      <td>0.418723</td>\n",
       "      <td>18.342313</td>\n",
       "    </tr>\n",
       "    <tr>\n",
       "      <th>2</th>\n",
       "      <td>San Jose</td>\n",
       "      <td>10-10-2015 09:44</td>\n",
       "      <td>33.858069</td>\n",
       "      <td>63.763412</td>\n",
       "      <td>8.951226</td>\n",
       "      <td>17.636000</td>\n",
       "    </tr>\n",
       "    <tr>\n",
       "      <th>3</th>\n",
       "      <td>Dallas</td>\n",
       "      <td>22-10-2015 12:14</td>\n",
       "      <td>18.485070</td>\n",
       "      <td>61.275683</td>\n",
       "      <td>2.680040</td>\n",
       "      <td>12.697902</td>\n",
       "    </tr>\n",
       "    <tr>\n",
       "      <th>4</th>\n",
       "      <td>San Diego</td>\n",
       "      <td>19-10-2015 08:56</td>\n",
       "      <td>-0.284422</td>\n",
       "      <td>45.024843</td>\n",
       "      <td>9.008345</td>\n",
       "      <td>29.536394</td>\n",
       "    </tr>\n",
       "  </tbody>\n",
       "</table>\n",
       "</div>"
      ],
      "text/plain": [
       "      Location         Date_Time  Temperature_C  Humidity_pct  \\\n",
       "0  San Antonio  18-09-2015 02:23      -2.489152     86.853813   \n",
       "1      Houston  27-03-2015 01:19      17.537183     39.588093   \n",
       "2     San Jose  10-10-2015 09:44      33.858069     63.763412   \n",
       "3       Dallas  22-10-2015 12:14      18.485070     61.275683   \n",
       "4    San Diego  19-10-2015 08:56      -0.284422     45.024843   \n",
       "\n",
       "   Precipitation_mm  Wind_Speed_kmh  \n",
       "0          4.885810       14.469642  \n",
       "1          0.418723       18.342313  \n",
       "2          8.951226       17.636000  \n",
       "3          2.680040       12.697902  \n",
       "4          9.008345       29.536394  "
      ]
     },
     "execution_count": 39,
     "metadata": {},
     "output_type": "execute_result"
    }
   ],
   "source": [
    "df.head()"
   ]
  },
  {
   "cell_type": "code",
   "execution_count": 40,
   "id": "a401870e",
   "metadata": {},
   "outputs": [
    {
     "name": "stdout",
     "output_type": "stream",
     "text": [
      "Index(['Location', 'Date_Time', 'Temperature_C', 'Humidity_pct',\n",
      "       'Precipitation_mm', 'Wind_Speed_kmh'],\n",
      "      dtype='object')\n"
     ]
    }
   ],
   "source": [
    "# Print columns to debug\n",
    "print(df.columns)"
   ]
  },
  {
   "cell_type": "code",
   "execution_count": 41,
   "id": "de3b654e",
   "metadata": {},
   "outputs": [],
   "source": [
    "df.drop('Humidity_pct', axis = 1,inplace = True)"
   ]
  },
  {
   "cell_type": "code",
   "execution_count": 42,
   "id": "1e6d2f88",
   "metadata": {},
   "outputs": [],
   "source": [
    "df.drop('Precipitation_mm', axis = 1,inplace = True) "
   ]
  },
  {
   "cell_type": "code",
   "execution_count": 43,
   "id": "747ce37b",
   "metadata": {},
   "outputs": [],
   "source": [
    "df.drop('Wind_Speed_kmh', axis = 1,inplace = True) "
   ]
  },
  {
   "cell_type": "code",
   "execution_count": 44,
   "id": "990681e3",
   "metadata": {},
   "outputs": [
    {
     "data": {
      "text/html": [
       "<div>\n",
       "<style scoped>\n",
       "    .dataframe tbody tr th:only-of-type {\n",
       "        vertical-align: middle;\n",
       "    }\n",
       "\n",
       "    .dataframe tbody tr th {\n",
       "        vertical-align: top;\n",
       "    }\n",
       "\n",
       "    .dataframe thead th {\n",
       "        text-align: right;\n",
       "    }\n",
       "</style>\n",
       "<table border=\"1\" class=\"dataframe\">\n",
       "  <thead>\n",
       "    <tr style=\"text-align: right;\">\n",
       "      <th></th>\n",
       "      <th>Location</th>\n",
       "      <th>Date_Time</th>\n",
       "      <th>Temperature_C</th>\n",
       "    </tr>\n",
       "  </thead>\n",
       "  <tbody>\n",
       "    <tr>\n",
       "      <th>0</th>\n",
       "      <td>San Antonio</td>\n",
       "      <td>18-09-2015 02:23</td>\n",
       "      <td>-2.489152</td>\n",
       "    </tr>\n",
       "    <tr>\n",
       "      <th>1</th>\n",
       "      <td>Houston</td>\n",
       "      <td>27-03-2015 01:19</td>\n",
       "      <td>17.537183</td>\n",
       "    </tr>\n",
       "    <tr>\n",
       "      <th>2</th>\n",
       "      <td>San Jose</td>\n",
       "      <td>10-10-2015 09:44</td>\n",
       "      <td>33.858069</td>\n",
       "    </tr>\n",
       "    <tr>\n",
       "      <th>3</th>\n",
       "      <td>Dallas</td>\n",
       "      <td>22-10-2015 12:14</td>\n",
       "      <td>18.485070</td>\n",
       "    </tr>\n",
       "    <tr>\n",
       "      <th>4</th>\n",
       "      <td>San Diego</td>\n",
       "      <td>19-10-2015 08:56</td>\n",
       "      <td>-0.284422</td>\n",
       "    </tr>\n",
       "  </tbody>\n",
       "</table>\n",
       "</div>"
      ],
      "text/plain": [
       "      Location         Date_Time  Temperature_C\n",
       "0  San Antonio  18-09-2015 02:23      -2.489152\n",
       "1      Houston  27-03-2015 01:19      17.537183\n",
       "2     San Jose  10-10-2015 09:44      33.858069\n",
       "3       Dallas  22-10-2015 12:14      18.485070\n",
       "4    San Diego  19-10-2015 08:56      -0.284422"
      ]
     },
     "execution_count": 44,
     "metadata": {},
     "output_type": "execute_result"
    }
   ],
   "source": [
    "df.head(5)"
   ]
  },
  {
   "cell_type": "code",
   "execution_count": 45,
   "id": "155672e2",
   "metadata": {},
   "outputs": [],
   "source": [
    "# Ensure no leading/trailing spaces in column names\n",
    "df.columns = df.columns.str.strip()"
   ]
  },
  {
   "cell_type": "code",
   "execution_count": 46,
   "id": "d6657b1b",
   "metadata": {},
   "outputs": [],
   "source": [
    "# --- MAP STEP: Extract (year, temperature) pairs ---\n",
    "year_temp = defaultdict(list)\n",
    "for _, row in df.iterrows():\n",
    "    date_time = datetime.strptime(row['Date_Time'], \"%d-%m-%Y %H:%M\")\n",
    "    year = date_time.year\n",
    "    year_temp[year].append(row['Temperature_C'])"
   ]
  },
  {
   "cell_type": "code",
   "execution_count": 47,
   "id": "1135edf0",
   "metadata": {},
   "outputs": [],
   "source": [
    "# --- REDUCE STEP: Calculate average temperature for each year ---\n",
    "avg_temp_by_year = {}\n",
    "for year, temps in year_temp.items():\n",
    "    avg_temp_by_year[year] = sum(temps) / len(temps)"
   ]
  },
  {
   "cell_type": "code",
   "execution_count": 48,
   "id": "df48c5af",
   "metadata": {},
   "outputs": [],
   "source": [
    "# --- Determine coolest and hottest year ---\n",
    "coolest_year = min(avg_temp_by_year, key=avg_temp_by_year.get)\n",
    "hottest_year = max(avg_temp_by_year, key=avg_temp_by_year.get)"
   ]
  },
  {
   "cell_type": "code",
   "execution_count": 49,
   "id": "a48e94cb",
   "metadata": {},
   "outputs": [
    {
     "name": "stdout",
     "output_type": "stream",
     "text": [
      "Average Temperature by Year:\n",
      "2015: 14.97°C\n",
      "2016: 13.55°C\n",
      "2017: 15.88°C\n",
      "2018: 14.31°C\n",
      "2019: 14.67°C\n",
      "2020: 15.62°C\n",
      "2021: 13.70°C\n",
      "2022: 15.82°C\n",
      "2023: 14.85°C\n",
      "2024: 13.36°C\n"
     ]
    }
   ],
   "source": [
    "print(\"Average Temperature by Year:\")\n",
    "for year, avg in avg_temp_by_year.items():\n",
    "    print(f\"{year}: {avg:.2f}°C\")"
   ]
  },
  {
   "cell_type": "code",
   "execution_count": 50,
   "id": "c960dd92",
   "metadata": {},
   "outputs": [
    {
     "name": "stdout",
     "output_type": "stream",
     "text": [
      "\n",
      "Coolest Year: 2024 (13.36°C)\n",
      "Hottest Year: 2017 (15.88°C)\n"
     ]
    }
   ],
   "source": [
    "print(f\"\\nCoolest Year: {coolest_year} ({avg_temp_by_year[coolest_year]:.2f}°C)\")\n",
    "print(f\"Hottest Year: {hottest_year} ({avg_temp_by_year[hottest_year]:.2f}°C)\")"
   ]
  },
  {
   "cell_type": "code",
   "execution_count": null,
   "id": "515ed53a",
   "metadata": {},
   "outputs": [],
   "source": []
  },
  {
   "cell_type": "code",
   "execution_count": null,
   "id": "bfd6e042",
   "metadata": {},
   "outputs": [],
   "source": []
  }
 ],
 "metadata": {
  "kernelspec": {
   "display_name": "base",
   "language": "python",
   "name": "python3"
  },
  "language_info": {
   "codemirror_mode": {
    "name": "ipython",
    "version": 3
   },
   "file_extension": ".py",
   "mimetype": "text/x-python",
   "name": "python",
   "nbconvert_exporter": "python",
   "pygments_lexer": "ipython3",
   "version": "3.9.19"
  }
 },
 "nbformat": 4,
 "nbformat_minor": 5
}
